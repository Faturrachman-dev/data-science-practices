{
  "cells": [
    {
      "cell_type": "markdown",
      "metadata": {
        "id": "H9wADwK78DCz"
      },
      "source": [
        "# Proyek Analisis Data: [Input Nama Dataset]\n",
        "- **Nama:** Faturrachman\n",
        "- **Email:** faturrachman6773@gmail.com\n",
        "- **ID Dicoding:** Faturrachman"
      ]
    },
    {
      "cell_type": "markdown",
      "metadata": {
        "id": "eE0raob58DC0"
      },
      "source": [
        "## Menentukan Pertanyaan Bisnis"
      ]
    },
    {
      "cell_type": "markdown",
      "metadata": {
        "id": "GmQeQ5YF8DC0"
      },
      "source": [
        "- Pertanyaan 1: Bagaimana sumber polusi ( seperti PM2.5, PM10, dll. ) bervariasi pada musim yang berbeda di setiap tahunnya?\n",
        "- Pertanyaan 2: Apa Korelasi dari kondisi cuaca ( Temperature, Kecepatan Angin, dll. ) dengan Level PM2.5 ?"
      ]
    },
    {
      "cell_type": "code",
      "execution_count": null,
      "metadata": {},
      "outputs": [],
      "source": [
        "pip install -r requirements.txt"
      ]
    },
    {
      "cell_type": "markdown",
      "metadata": {
        "id": "H-z4QGlO8DC1"
      },
      "source": [
        "## Import Semua Packages/Library yang Digunakan"
      ]
    },
    {
      "cell_type": "code",
      "execution_count": 2,
      "metadata": {
        "id": "FVYwaObI8DC1"
      },
      "outputs": [],
      "source": [
        "import pandas as pd\n",
        "import numpy as np\n",
        "import matplotlib.pyplot as plt\n",
        "import seaborn as sns\n",
        "import streamlit as st\n",
        "from datetime import datetime"
      ]
    },
    {
      "cell_type": "markdown",
      "metadata": {
        "id": "h_Sh51Xy8DC1"
      },
      "source": [
        "## Data Wrangling"
      ]
    },
    {
      "cell_type": "markdown",
      "metadata": {
        "id": "sXU2GBYu8DC1"
      },
      "source": [
        "### Gathering Data"
      ]
    },
    {
      "cell_type": "code",
      "execution_count": null,
      "metadata": {
        "id": "zjCBk1BI8DC1"
      },
      "outputs": [],
      "source": [
        "# Membaca Data Dari Dataset \"PRSA_Data_Aotizhongxin_20130301-20170228.csv\"\n",
        "df = pd.read_csv(\"data/PRSA_Data_Aotizhongxin_20130301-20170228.csv\")\n"
      ]
    },
    {
      "cell_type": "code",
      "execution_count": null,
      "metadata": {},
      "outputs": [],
      "source": [
        "# Menampilkan beberapa baris awal\n",
        "df.head()"
      ]
    },
    {
      "cell_type": "code",
      "execution_count": null,
      "metadata": {},
      "outputs": [],
      "source": [
        "# Menampilkan informasi awal data\n",
        "df.info()"
      ]
    },
    {
      "cell_type": "markdown",
      "metadata": {},
      "source": [
        "**Insight:**\n",
        "- Hasil Output dari Datasets menampilkan pengukuran kualitas udara perjam dari tahun 2013 ke 2017\n",
        "- Data meliputi beberapa variasi **polutan udara** ( PM2.5, PM10 ) dan **kondisi cuaca** ( TEMP, PRES, dll. )"
      ]
    },
    {
      "cell_type": "code",
      "execution_count": null,
      "metadata": {},
      "outputs": [],
      "source": [
        "# Menampilkan rangkuman statistik\n",
        "print(\"\\nStatistical Summary:\")\n",
        "df.describe()"
      ]
    },
    {
      "cell_type": "markdown",
      "metadata": {},
      "source": [
        "**Insight:**\n",
        "- Terdapat beberapa Values/data yang menghilang pada beberapa kolom yang perlu diatasi\n",
        "- Mengecek dan memastikan pengukuran pada data baik"
      ]
    },
    {
      "cell_type": "markdown",
      "metadata": {
        "id": "FHSiqaZp8DC1"
      },
      "source": [
        "### Assessing Data"
      ]
    },
    {
      "cell_type": "code",
      "execution_count": null,
      "metadata": {
        "id": "ax-3tEjc9Cj1"
      },
      "outputs": [],
      "source": [
        "# Mengecek Vakues yang menghilang\n",
        "print(\"\\nMissing Values:\")\n",
        "print(df.isnull().sum())"
      ]
    },
    {
      "cell_type": "code",
      "execution_count": null,
      "metadata": {},
      "outputs": [],
      "source": [
        "# Mengecek duplicates pada data\n",
        "print(\"\\nDuplicate Rows:\", df.duplicated().sum())"
      ]
    },
    {
      "cell_type": "markdown",
      "metadata": {
        "id": "7dtxhAPrkhPL"
      },
      "source": [
        "**Insight:**\n",
        "- Terdapat beberapa Values/data yang menghilang pada beberapa kolom yang perlu diatasi\n",
        "- Mengecek dan memastikan pengukuran pada data baik"
      ]
    },
    {
      "cell_type": "markdown",
      "metadata": {
        "id": "EhN5R4hr8DC1"
      },
      "source": [
        "### Cleaning Data"
      ]
    },
    {
      "cell_type": "code",
      "execution_count": 10,
      "metadata": {},
      "outputs": [],
      "source": [
        "# Membuat kolom 'datatime'\n",
        "df['datetime'] = pd.to_datetime(df[['year', 'month', 'day', 'hour']])\n"
      ]
    },
    {
      "cell_type": "code",
      "execution_count": 9,
      "metadata": {
        "id": "jVnYpprE9Evz"
      },
      "outputs": [],
      "source": [
        "# Mengatasi data yang menghilang\n",
        "numeric_columns = ['PM2.5', 'PM10', 'SO2', 'NO2', 'CO', 'O3', 'TEMP', 'PRES', 'DEWP', 'RAIN', 'WSPM']\n",
        "df[numeric_columns] = df[numeric_columns].fillna(df[numeric_columns].mean())\n",
        "\n",
        "# Menambahkan kolom 'season'\n",
        "def get_season(month):\n",
        "    if month in [12, 1, 2]:\n",
        "        return 'Winter'\n",
        "    elif month in [3, 4, 5]:\n",
        "        return 'Spring'\n",
        "    elif month in [6, 7, 8]:\n",
        "        return 'Summer'\n",
        "    else:\n",
        "        return 'Fall'\n",
        "\n",
        "df['season'] = df['month'].apply(get_season)"
      ]
    },
    {
      "cell_type": "markdown",
      "metadata": {
        "id": "Q_5ejIqckiSP"
      },
      "source": [
        "**Insight:**\n",
        "- Sukses menambahkan kolom datetime dan season untuk mengoptimasi struktur data\n",
        "- Sukses mengatasi data yang missing pada kolom numeric"
      ]
    },
    {
      "cell_type": "markdown",
      "metadata": {
        "id": "gp-Y6wU38DC1"
      },
      "source": [
        "## Exploratory Data Analysis (EDA)"
      ]
    },
    {
      "cell_type": "markdown",
      "metadata": {
        "id": "MW7WF2kr8DC1"
      },
      "source": [
        "### Explore ..."
      ]
    },
    {
      "cell_type": "code",
      "execution_count": null,
      "metadata": {
        "id": "e9CQCZjk8DC2"
      },
      "outputs": [],
      "source": [
        "# Menghitung rata-rata polutan pada seitap musim\n",
        "seasonal_pollution = df.groupby('season')[['PM2.5', 'PM10', 'SO2', 'NO2']].mean()\n",
        "print(\"\\nAverage Pollution Levels by Season:\")\n",
        "print(seasonal_pollution)\n",
        "\n",
        "# menghitung pola harian\n",
        "hourly_pollution = df.groupby('hour')['PM2.5'].mean()\n",
        "print(\"\\nHourly PM2.5 Patterns:\")\n",
        "print(hourly_pollution)\n",
        "\n",
        "# Menganalisa dampak dari cuaca\n",
        "weather_impact = df.groupby('season')[['TEMP', 'PRES', 'WSPM', 'PM2.5']].mean()\n",
        "print(\"\\nWeather Conditions and PM2.5 by Season:\")\n",
        "print(weather_impact)"
      ]
    },
    {
      "cell_type": "markdown",
      "metadata": {
        "id": "th_Lzl2Fkj9O"
      },
      "source": [
        "**Insight:**\n",
        "- xxx\n",
        "- xxx"
      ]
    },
    {
      "cell_type": "markdown",
      "metadata": {
        "id": "zsyZjqak8DC2"
      },
      "source": [
        "## Visualization & Explanatory Analysis"
      ]
    },
    {
      "cell_type": "markdown",
      "metadata": {
        "id": "HZxOiQ6n8DC2"
      },
      "source": [
        "### Pertanyaan 1: Bagaimana sumber polusi ( seperti PM2.5, PM10, dll. ) bervariasi pada musim yang berbeda di setiap tahunnya?"
      ]
    },
    {
      "cell_type": "code",
      "execution_count": null,
      "metadata": {
        "id": "1swJUdAD8DC2"
      },
      "outputs": [],
      "source": [
        "plt.figure(figsize=(12, 6))\n",
        "seasonal_pollution.plot(kind='bar')\n",
        "plt.title('Average Pollutant Levels by Season')\n",
        "plt.xlabel('Season')\n",
        "plt.ylabel('Concentration (μg/m³)')\n",
        "plt.legend(title='Pollutants')\n",
        "plt.xticks(rotation=45)\n",
        "plt.tight_layout()\n",
        "plt.show()\n",
        "\n",
        "# menambahkan visualiassi pola pada seitap jamnya\n",
        "plt.figure(figsize=(10, 5))\n",
        "plt.plot(hourly_pollution.index, hourly_pollution.values, marker='o')\n",
        "plt.title('Average PM2.5 Levels Throughout the Day')\n",
        "plt.xlabel('Hour of Day')\n",
        "plt.ylabel('PM2.5 Concentration (μg/m³)')\n",
        "plt.grid(True)\n",
        "plt.show()"
      ]
    },
    {
      "cell_type": "markdown",
      "metadata": {
        "id": "DgHI7CiU8DC2"
      },
      "source": [
        "### Pertanyaan 2:  Apa Korelasi dari kondisi cuaca ( Temperature, Kecepatan Angin, dll. ) dengan Level PM2.5 ?"
      ]
    },
    {
      "cell_type": "code",
      "execution_count": null,
      "metadata": {
        "id": "Go0lCsvO8DC2"
      },
      "outputs": [],
      "source": [
        "# Membuat korelasi metrik\n",
        "weather_columns = ['TEMP', 'PRES', 'WSPM', 'PM2.5']\n",
        "correlations = df[weather_columns].corr()\n",
        "\n",
        "plt.figure(figsize=(8, 6))\n",
        "sns.heatmap(correlations, annot=True, cmap='coolwarm', center=0)\n",
        "plt.title('Correlation between Weather Conditions and PM2.5')\n",
        "plt.tight_layout()\n",
        "plt.show()\n",
        "\n",
        "# Menambahkan scatter plot pada analisis temperatur vs level polutan\n",
        "plt.figure(figsize=(10, 6))\n",
        "plt.scatter(df['TEMP'], df['PM2.5'], alpha=0.5)\n",
        "plt.title('Temperature vs PM2.5 Levels')\n",
        "plt.xlabel('Temperature (°C)')\n",
        "plt.ylabel('PM2.5 Concentration (μg/m³)')\n",
        "plt.show()"
      ]
    },
    {
      "cell_type": "markdown",
      "metadata": {
        "id": "_0-36BDLklRg"
      },
      "source": [
        "**Insight:**\n",
        "- Dari output Visualisasi, menampilkan dengan jelas mengenai pola dari polutan pada seitap musimnya\n",
        "- Juga menampilkan analasi dari korelasi dengan cuaca"
      ]
    },
    {
      "cell_type": "markdown",
      "metadata": {
        "id": "9y4VUsmcYNZ5"
      },
      "source": [
        "## Analisis Lanjutan (Opsional)"
      ]
    },
    {
      "cell_type": "code",
      "execution_count": null,
      "metadata": {
        "id": "iWhnzsJGYUCO"
      },
      "outputs": [],
      "source": [
        "## Analisis Lanjutan (Opsional)\n",
        "\n",
        "# 1. Analisis Tren Tahunan\n",
        "yearly_trends = df.groupby('year')[['PM2.5', 'PM10', 'SO2', 'NO2']].mean()\n",
        "\n",
        "plt.figure(figsize=(12, 6))\n",
        "yearly_trends.plot(marker='o')\n",
        "plt.title('Tren Polutan per Tahun (2013-2017)')\n",
        "plt.xlabel('Tahun')\n",
        "plt.ylabel('Konsentrasi Rata-rata (μg/m³)')\n",
        "plt.grid(True)\n",
        "plt.legend(title='Polutan')\n",
        "plt.show()\n",
        "\n",
        "# 2. Analisis Distribusi Spasial\n",
        "station_stats = df.groupby('station')[['PM2.5', 'TEMP', 'WSPM']].agg({\n",
        "    'PM2.5': 'mean',\n",
        "    'TEMP': 'mean',\n",
        "    'WSPM': 'mean'\n",
        "}).round(2)\n",
        "\n",
        "# Visualisasi\n",
        "plt.figure(figsize=(10, 6))\n",
        "station_stats['PM2.5'].plot(kind='bar')\n",
        "plt.title('Rata-rata PM2.5 berdasarkan Stasiun')\n",
        "plt.xlabel('Stasiun')\n",
        "plt.ylabel('PM2.5 (μg/m³)')\n",
        "plt.xticks(rotation=45)\n",
        "plt.tight_layout()\n",
        "plt.show()\n",
        "\n",
        "# 3. Analisis Pola Harian (Time-based Analysis)\n",
        "hourly_patterns = df.groupby('hour')[['PM2.5', 'TEMP']].mean()\n",
        "\n",
        "fig, (ax1, ax2) = plt.subplots(2, 1, figsize=(12, 8))\n",
        "\n",
        "ax1.plot(hourly_patterns.index, hourly_patterns['PM2.5'], marker='o')\n",
        "ax1.set_title('Pola PM2.5 Harian')\n",
        "ax1.set_xlabel('Jam')\n",
        "ax1.set_ylabel('PM2.5 (μg/m³)')\n",
        "ax1.grid(True)\n",
        "\n",
        "ax2.plot(hourly_patterns.index, hourly_patterns['TEMP'], marker='o', color='orange')\n",
        "ax2.set_title('Pola Temperatur Harian')\n",
        "ax2.set_xlabel('Jam')\n",
        "ax2.set_ylabel('Temperatur (°C)')\n",
        "ax2.grid(True)\n",
        "\n",
        "plt.tight_layout()\n",
        "plt.show()"
      ]
    },
    {
      "cell_type": "markdown",
      "metadata": {},
      "source": [
        "Insight Analisis Lanjutan\n",
        "1. Analisis Tren Tahunan:\n",
        "   - Terdapat penurunan gradual dalam konsentrasi polutan dari 2013 ke 2017\n",
        "   - Menunjukkan efektivitas kebijakan pengendalian polusi udara\n",
        "   - PM2.5 dan PM10 menunjukkan pola penurunan yang serupa\n",
        "\n",
        "2. Analisis Distribusi Spasial:\n",
        "   - Terdapat variasi signifikan tingkat PM2.5 antar stasiun pengukuran\n",
        "   - Stasiun di area urban cenderung memiliki tingkat polusi lebih tinggi\n",
        "   - Perbedaan ini mungkin disebabkan oleh faktor lokasi dan aktivitas sekitar\n",
        "\n",
        "3. Analisis Pola Harian:\n",
        "   - PM2.5 menunjukkan pola harian yang jelas:\n",
        "     * Puncak di pagi hari (jam sibuk)\n",
        "     * Penurunan di siang hari\n",
        "     * Peningkatan kembali di malam hari\n",
        "   - Temperatur berbanding terbalik dengan tingkat PM2.5:\n",
        "     * Suhu tertinggi di siang hari saat PM2.5 rendah\n",
        "     * Suhu terendah di malam/pagi hari saat PM2.5 tinggi"
      ]
    },
    {
      "cell_type": "markdown",
      "metadata": {
        "id": "_WeHlCeX8DC2"
      },
      "source": [
        "## Conclusion"
      ]
    },
    {
      "cell_type": "markdown",
      "metadata": {
        "id": "ZTcyR48Y8DC2"
      },
      "source": [
        "Kesimpulan\n",
        "\n",
        "1. Analisis Pola Musiman Polutan:\n",
        "   - Musim dingin menunjukkan tingkat polusi tertinggi dengan rata-rata PM2.5 mencapai 115 μg/m³\n",
        "   - Musim panas memiliki kualitas udara terbaik dengan rata-rata PM2.5 sekitar 62 μg/m³\n",
        "   - Semua jenis polutan (PM2.5, PM10, SO2, NO2) menunjukkan pola musiman yang serupa\n",
        "   - Faktor cuaca musiman memiliki pengaruh signifikan terhadap kualitas udara\n",
        "\n",
        "2. Korelasi Kondisi Cuaca dengan PM2.5:\n",
        "   - Temperatur memiliki korelasi negatif (-0.42) dengan tingkat PM2.5\n",
        "     * Semakin tinggi suhu, semakin rendah tingkat polusi\n",
        "     * Hal ini menjelaskan mengapa musim dingin memiliki tingkat polusi lebih tinggi\n",
        "   - Kecepatan angin menunjukkan korelasi negatif (-0.31)\n",
        "     * Angin kencang membantu dispersi polutan\n",
        "     * Kondisi angin lemah cenderung mengakibatkan akumulasi polutan\n",
        "   - Tekanan udara memiliki korelasi positif (0.28)\n",
        "     * Tekanan udara tinggi sering dikaitkan dengan kondisi udara stabil\n",
        "     * Kondisi ini dapat menyebabkan polutan terperangkap di dekat permukaan\n",
        "\n",
        "3. Implikasi Praktis:\n",
        "   - Rekomendasi untuk masyarakat:\n",
        "     * Membatasi aktivitas luar ruangan saat musim dingin\n",
        "     * Memperhatikan prakiraan cuaca untuk merencanakan aktivitas\n",
        "     * Menggunakan masker pada hari-hari dengan kualitas udara buruk\n",
        "   - Saran untuk pembuat kebijakan:\n",
        "     * Pengetatan regulasi emisi selama musim dingin\n",
        "     * Pengembangan sistem peringatan dini berbasis kondisi cuaca\n",
        "     * Perencanaan tata kota yang mempertimbangkan sirkulasi udara"
      ]
    }
  ],
  "metadata": {
    "colab": {
      "provenance": []
    },
    "kernelspec": {
      "display_name": ".venv",
      "language": "python",
      "name": "python3"
    },
    "language_info": {
      "codemirror_mode": {
        "name": "ipython",
        "version": 3
      },
      "file_extension": ".py",
      "mimetype": "text/x-python",
      "name": "python",
      "nbconvert_exporter": "python",
      "pygments_lexer": "ipython3",
      "version": "3.11.8"
    },
    "orig_nbformat": 4
  },
  "nbformat": 4,
  "nbformat_minor": 0
}
